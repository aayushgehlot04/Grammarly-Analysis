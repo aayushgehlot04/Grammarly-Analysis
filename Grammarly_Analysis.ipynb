{
 "cells": [
  {
   "cell_type": "markdown",
   "metadata": {},
   "source": [
    "Sales plays are a significant role in driving the company’s strategies,  generating revenue, and forming the foundation for any organization to grow. It is very important to analyze the customer interactions and factors which lead sales executives to secure a deal also factors that resulted in rejections. Such analysis will provide insight and direct efforts in the correct direction."
   ]
  },
  {
   "cell_type": "markdown",
   "metadata": {},
   "source": [
    "Main Goal for this workbook is to clean, append, analyse Grammarly dataset"
   ]
  },
  {
   "cell_type": "markdown",
   "metadata": {},
   "source": [
    "Importing the Essential Libraries to analyze the data"
   ]
  },
  {
   "cell_type": "code",
   "execution_count": 82,
   "metadata": {},
   "outputs": [],
   "source": [
    "import pandas as pd\n",
    "import numpy as np\n",
    "import matplotlib.pyplot as plt\n",
    "import seaborn as sns\n",
    "import pandasql as ps\n",
    "%matplotlib inline \n",
    "import os"
   ]
  },
  {
   "cell_type": "markdown",
   "metadata": {},
   "source": [
    "Setting up the dataframe and chart parameters which will allow me to have a clear view of the data"
   ]
  },
  {
   "cell_type": "code",
   "execution_count": 3,
   "metadata": {},
   "outputs": [],
   "source": [
    "pd.set_option('display.max_columns', None)\n",
    "pd.set_option('display.max_rows', None)\n",
    "sns.set_style('whitegrid')\n",
    "sns.set_palette('pastel')"
   ]
  },
  {
   "cell_type": "markdown",
   "metadata": {},
   "source": [
    "Importing the data into dataframe"
   ]
  },
  {
   "cell_type": "code",
   "execution_count": 4,
   "metadata": {},
   "outputs": [],
   "source": [
    "data = pd.read_csv('grammarly_data.csv')"
   ]
  },
  {
   "cell_type": "markdown",
   "metadata": {},
   "source": [
    "Checking the first 5 rows of the data\n",
    "\n",
    "\n",
    "\n",
    "In this dataset, there are 8 columns with values specific to leads/opportunity"
   ]
  },
  {
   "cell_type": "code",
   "execution_count": 70,
   "metadata": {},
   "outputs": [
    {
     "data": {
      "text/html": [
       "<div>\n",
       "<style scoped>\n",
       "    .dataframe tbody tr th:only-of-type {\n",
       "        vertical-align: middle;\n",
       "    }\n",
       "\n",
       "    .dataframe tbody tr th {\n",
       "        vertical-align: top;\n",
       "    }\n",
       "\n",
       "    .dataframe thead th {\n",
       "        text-align: right;\n",
       "    }\n",
       "</style>\n",
       "<table border=\"1\" class=\"dataframe\">\n",
       "  <thead>\n",
       "    <tr style=\"text-align: right;\">\n",
       "      <th></th>\n",
       "      <th>id</th>\n",
       "      <th>lead_status</th>\n",
       "      <th>creation_date</th>\n",
       "      <th>status_change</th>\n",
       "      <th>lead_source</th>\n",
       "      <th>deal_size</th>\n",
       "      <th>company_size</th>\n",
       "      <th>company_industry</th>\n",
       "    </tr>\n",
       "  </thead>\n",
       "  <tbody>\n",
       "    <tr>\n",
       "      <th>0</th>\n",
       "      <td>25691639</td>\n",
       "      <td>qualification</td>\n",
       "      <td>2020-03-30</td>\n",
       "      <td>2020-03-31</td>\n",
       "      <td>paid_ads</td>\n",
       "      <td>112</td>\n",
       "      <td>251-500</td>\n",
       "      <td>Commerce and Shopping|Financial Services|Infor...</td>\n",
       "    </tr>\n",
       "    <tr>\n",
       "      <th>1</th>\n",
       "      <td>66519272</td>\n",
       "      <td>rejected</td>\n",
       "      <td>2019-12-24</td>\n",
       "      <td>2019-12-24</td>\n",
       "      <td>paid_ads</td>\n",
       "      <td>428</td>\n",
       "      <td>5001-10000</td>\n",
       "      <td>Data and Analytics|Information Technology|Mobi...</td>\n",
       "    </tr>\n",
       "    <tr>\n",
       "      <th>2</th>\n",
       "      <td>102989944</td>\n",
       "      <td>converted</td>\n",
       "      <td>2019-09-14</td>\n",
       "      <td>2020-01-05</td>\n",
       "      <td>paid_ads</td>\n",
       "      <td>87</td>\n",
       "      <td>501-1000</td>\n",
       "      <td>Financial Services</td>\n",
       "    </tr>\n",
       "    <tr>\n",
       "      <th>3</th>\n",
       "      <td>244285609</td>\n",
       "      <td>rejected</td>\n",
       "      <td>2020-01-27</td>\n",
       "      <td>2020-01-27</td>\n",
       "      <td>consumer_website</td>\n",
       "      <td>128</td>\n",
       "      <td>251-500</td>\n",
       "      <td>Legal</td>\n",
       "    </tr>\n",
       "    <tr>\n",
       "      <th>4</th>\n",
       "      <td>255755011</td>\n",
       "      <td>rejected</td>\n",
       "      <td>2020-03-12</td>\n",
       "      <td>2020-03-12</td>\n",
       "      <td>paid_ads</td>\n",
       "      <td>245</td>\n",
       "      <td>251-500</td>\n",
       "      <td>Legal</td>\n",
       "    </tr>\n",
       "  </tbody>\n",
       "</table>\n",
       "</div>"
      ],
      "text/plain": [
       "          id    lead_status creation_date status_change       lead_source  \\\n",
       "0   25691639  qualification    2020-03-30    2020-03-31          paid_ads   \n",
       "1   66519272       rejected    2019-12-24    2019-12-24          paid_ads   \n",
       "2  102989944      converted    2019-09-14    2020-01-05          paid_ads   \n",
       "3  244285609       rejected    2020-01-27    2020-01-27  consumer_website   \n",
       "4  255755011       rejected    2020-03-12    2020-03-12          paid_ads   \n",
       "\n",
       "   deal_size company_size                                   company_industry  \n",
       "0        112      251-500  Commerce and Shopping|Financial Services|Infor...  \n",
       "1        428   5001-10000  Data and Analytics|Information Technology|Mobi...  \n",
       "2         87     501-1000                                 Financial Services  \n",
       "3        128      251-500                                              Legal  \n",
       "4        245      251-500                                              Legal  "
      ]
     },
     "execution_count": 70,
     "metadata": {},
     "output_type": "execute_result"
    }
   ],
   "source": [
    "data.head()"
   ]
  },
  {
   "cell_type": "markdown",
   "metadata": {},
   "source": [
    "Check for the data Types and non-null values"
   ]
  },
  {
   "cell_type": "code",
   "execution_count": 6,
   "metadata": {
    "scrolled": true
   },
   "outputs": [
    {
     "name": "stdout",
     "output_type": "stream",
     "text": [
      "<class 'pandas.core.frame.DataFrame'>\n",
      "RangeIndex: 91571 entries, 0 to 91570\n",
      "Data columns (total 8 columns):\n",
      " #   Column            Non-Null Count  Dtype \n",
      "---  ------            --------------  ----- \n",
      " 0   id                91571 non-null  object\n",
      " 1   lead_status       91571 non-null  object\n",
      " 2   creation_date     91571 non-null  object\n",
      " 3   status_change     91571 non-null  object\n",
      " 4   lead_source       91569 non-null  object\n",
      " 5   deal_size         91571 non-null  int64 \n",
      " 6   company_size      91571 non-null  object\n",
      " 7   company_industry  91570 non-null  object\n",
      "dtypes: int64(1), object(7)\n",
      "memory usage: 5.6+ MB\n"
     ]
    }
   ],
   "source": [
    "data.info()"
   ]
  },
  {
   "cell_type": "markdown",
   "metadata": {},
   "source": [
    "Checking for Null Values\n",
    "\n",
    "\n",
    "I noticed that there are null values, 2 in lead_source column  and 1 in company_industry column "
   ]
  },
  {
   "cell_type": "code",
   "execution_count": 7,
   "metadata": {},
   "outputs": [
    {
     "data": {
      "text/plain": [
       "id                  0\n",
       "lead_status         0\n",
       "creation_date       0\n",
       "status_change       0\n",
       "lead_source         2\n",
       "deal_size           0\n",
       "company_size        0\n",
       "company_industry    1\n",
       "dtype: int64"
      ]
     },
     "execution_count": 7,
     "metadata": {},
     "output_type": "execute_result"
    }
   ],
   "source": [
    "data.isnull().sum()"
   ]
  },
  {
   "cell_type": "markdown",
   "metadata": {},
   "source": [
    "Analysing the NULL Values\n",
    "\n",
    "I noticed that all the null values are coming from a single lead '5558826289' and it seems that this opportunity is not correctly field because:\n",
    "\n",
    "1. Company size is not correctly defined, in 2 row its 10K+ and in others its 251-500\n",
    "2. Deal size also varies significantly\n",
    "\n",
    "\n",
    "These two reason, I would like to remove this opportunity from analyis and would request further information"
   ]
  },
  {
   "cell_type": "code",
   "execution_count": 8,
   "metadata": {},
   "outputs": [
    {
     "data": {
      "text/html": [
       "<div>\n",
       "<style scoped>\n",
       "    .dataframe tbody tr th:only-of-type {\n",
       "        vertical-align: middle;\n",
       "    }\n",
       "\n",
       "    .dataframe tbody tr th {\n",
       "        vertical-align: top;\n",
       "    }\n",
       "\n",
       "    .dataframe thead th {\n",
       "        text-align: right;\n",
       "    }\n",
       "</style>\n",
       "<table border=\"1\" class=\"dataframe\">\n",
       "  <thead>\n",
       "    <tr style=\"text-align: right;\">\n",
       "      <th></th>\n",
       "      <th>id</th>\n",
       "      <th>lead_status</th>\n",
       "      <th>creation_date</th>\n",
       "      <th>status_change</th>\n",
       "      <th>lead_source</th>\n",
       "      <th>deal_size</th>\n",
       "      <th>company_size</th>\n",
       "      <th>company_industry</th>\n",
       "    </tr>\n",
       "  </thead>\n",
       "  <tbody>\n",
       "    <tr>\n",
       "      <th>1585</th>\n",
       "      <td>5558826289</td>\n",
       "      <td>new</td>\n",
       "      <td>2020-03-26</td>\n",
       "      <td>2020-03-26</td>\n",
       "      <td>NaN</td>\n",
       "      <td>35</td>\n",
       "      <td>251-500</td>\n",
       "      <td>Events|Hardware|Media and Entertainment|Music ...</td>\n",
       "    </tr>\n",
       "    <tr>\n",
       "      <th>1587</th>\n",
       "      <td>5558826289</td>\n",
       "      <td>new</td>\n",
       "      <td>2020-03-06</td>\n",
       "      <td>2020-03-06</td>\n",
       "      <td>paid_ads</td>\n",
       "      <td>6282</td>\n",
       "      <td>10001+</td>\n",
       "      <td>NaN</td>\n",
       "    </tr>\n",
       "    <tr>\n",
       "      <th>1588</th>\n",
       "      <td>5558826289</td>\n",
       "      <td>new</td>\n",
       "      <td>2020-02-03</td>\n",
       "      <td>2020-02-03</td>\n",
       "      <td>NaN</td>\n",
       "      <td>116</td>\n",
       "      <td>251-500</td>\n",
       "      <td>Advertising|Internet Services|Sales and Market...</td>\n",
       "    </tr>\n",
       "  </tbody>\n",
       "</table>\n",
       "</div>"
      ],
      "text/plain": [
       "              id lead_status creation_date status_change lead_source  \\\n",
       "1585  5558826289         new    2020-03-26    2020-03-26         NaN   \n",
       "1587  5558826289         new    2020-03-06    2020-03-06    paid_ads   \n",
       "1588  5558826289         new    2020-02-03    2020-02-03         NaN   \n",
       "\n",
       "      deal_size company_size  \\\n",
       "1585         35      251-500   \n",
       "1587       6282       10001+   \n",
       "1588        116      251-500   \n",
       "\n",
       "                                       company_industry  \n",
       "1585  Events|Hardware|Media and Entertainment|Music ...  \n",
       "1587                                                NaN  \n",
       "1588  Advertising|Internet Services|Sales and Market...  "
      ]
     },
     "execution_count": 8,
     "metadata": {},
     "output_type": "execute_result"
    }
   ],
   "source": [
    "data[data['lead_source'].isnull() | data['company_industry'].isnull()]"
   ]
  },
  {
   "cell_type": "markdown",
   "metadata": {},
   "source": [
    "Removing NULL values and cleaninng the dataframe"
   ]
  },
  {
   "cell_type": "code",
   "execution_count": 9,
   "metadata": {},
   "outputs": [],
   "source": [
    "data = data[data['id'] != '5558826289']"
   ]
  },
  {
   "cell_type": "markdown",
   "metadata": {},
   "source": [
    "Reverifying the NULL values\n",
    "\n",
    "Now we donot have NULL values in the dataset"
   ]
  },
  {
   "cell_type": "code",
   "execution_count": 10,
   "metadata": {},
   "outputs": [
    {
     "data": {
      "text/plain": [
       "id                  0\n",
       "lead_status         0\n",
       "creation_date       0\n",
       "status_change       0\n",
       "lead_source         0\n",
       "deal_size           0\n",
       "company_size        0\n",
       "company_industry    0\n",
       "dtype: int64"
      ]
     },
     "execution_count": 10,
     "metadata": {},
     "output_type": "execute_result"
    }
   ],
   "source": [
    "data.isnull().sum()"
   ]
  },
  {
   "cell_type": "markdown",
   "metadata": {},
   "source": [
    "Check for duplicates\n",
    "\n",
    "I noticed that we have couple of records which are duplicated and mainly all these records belong to two leads '7210615860', '8182625037'\n",
    "\n",
    "Analysing individual Leads:\n",
    "7210615860: On compaing with other rows of same lead_id, I noted that record are repeatative accept first two. It is clear that these are duplicate record so will remove the rest and keep the two\n",
    "\n",
    "8182625037: I look this read is rejected multiple time with different deal size which suggest although lead_Id is same but other values are unique so I will keep these rows for reference"
   ]
  },
  {
   "cell_type": "code",
   "execution_count": 11,
   "metadata": {
    "scrolled": true
   },
   "outputs": [
    {
     "data": {
      "text/html": [
       "<div>\n",
       "<style scoped>\n",
       "    .dataframe tbody tr th:only-of-type {\n",
       "        vertical-align: middle;\n",
       "    }\n",
       "\n",
       "    .dataframe tbody tr th {\n",
       "        vertical-align: top;\n",
       "    }\n",
       "\n",
       "    .dataframe thead th {\n",
       "        text-align: right;\n",
       "    }\n",
       "</style>\n",
       "<table border=\"1\" class=\"dataframe\">\n",
       "  <thead>\n",
       "    <tr style=\"text-align: right;\">\n",
       "      <th></th>\n",
       "      <th>id</th>\n",
       "      <th>lead_status</th>\n",
       "      <th>creation_date</th>\n",
       "      <th>status_change</th>\n",
       "      <th>lead_source</th>\n",
       "      <th>deal_size</th>\n",
       "      <th>company_size</th>\n",
       "      <th>company_industry</th>\n",
       "    </tr>\n",
       "  </thead>\n",
       "  <tbody>\n",
       "    <tr>\n",
       "      <th>91540</th>\n",
       "      <td>7210615860</td>\n",
       "      <td>converted</td>\n",
       "      <td>2020-04-21</td>\n",
       "      <td>2020-04-21</td>\n",
       "      <td>paid_ads</td>\n",
       "      <td>254</td>\n",
       "      <td>251-500</td>\n",
       "      <td>Software</td>\n",
       "    </tr>\n",
       "    <tr>\n",
       "      <th>91541</th>\n",
       "      <td>7210615860</td>\n",
       "      <td>converted</td>\n",
       "      <td>2019-09-10</td>\n",
       "      <td>2020-02-12</td>\n",
       "      <td>paid_ads</td>\n",
       "      <td>42</td>\n",
       "      <td>251-500</td>\n",
       "      <td>Software</td>\n",
       "    </tr>\n",
       "    <tr>\n",
       "      <th>91542</th>\n",
       "      <td>7210615860</td>\n",
       "      <td>converted</td>\n",
       "      <td>2020-04-21</td>\n",
       "      <td>2020-04-21</td>\n",
       "      <td>paid_ads</td>\n",
       "      <td>254</td>\n",
       "      <td>251-500</td>\n",
       "      <td>Software</td>\n",
       "    </tr>\n",
       "    <tr>\n",
       "      <th>91543</th>\n",
       "      <td>7210615860</td>\n",
       "      <td>converted</td>\n",
       "      <td>2019-09-10</td>\n",
       "      <td>2020-02-12</td>\n",
       "      <td>paid_ads</td>\n",
       "      <td>42</td>\n",
       "      <td>251-500</td>\n",
       "      <td>Software</td>\n",
       "    </tr>\n",
       "    <tr>\n",
       "      <th>91544</th>\n",
       "      <td>7210615860</td>\n",
       "      <td>converted</td>\n",
       "      <td>2020-04-21</td>\n",
       "      <td>2020-04-21</td>\n",
       "      <td>paid_ads</td>\n",
       "      <td>254</td>\n",
       "      <td>251-500</td>\n",
       "      <td>Software</td>\n",
       "    </tr>\n",
       "    <tr>\n",
       "      <th>91545</th>\n",
       "      <td>7210615860</td>\n",
       "      <td>converted</td>\n",
       "      <td>2019-09-10</td>\n",
       "      <td>2020-02-12</td>\n",
       "      <td>paid_ads</td>\n",
       "      <td>42</td>\n",
       "      <td>251-500</td>\n",
       "      <td>Software</td>\n",
       "    </tr>\n",
       "    <tr>\n",
       "      <th>91546</th>\n",
       "      <td>7210615860</td>\n",
       "      <td>converted</td>\n",
       "      <td>2020-04-21</td>\n",
       "      <td>2020-04-21</td>\n",
       "      <td>paid_ads</td>\n",
       "      <td>254</td>\n",
       "      <td>251-500</td>\n",
       "      <td>Software</td>\n",
       "    </tr>\n",
       "    <tr>\n",
       "      <th>91547</th>\n",
       "      <td>7210615860</td>\n",
       "      <td>converted</td>\n",
       "      <td>2019-09-10</td>\n",
       "      <td>2020-02-12</td>\n",
       "      <td>paid_ads</td>\n",
       "      <td>42</td>\n",
       "      <td>251-500</td>\n",
       "      <td>Software</td>\n",
       "    </tr>\n",
       "    <tr>\n",
       "      <th>91548</th>\n",
       "      <td>7210615860</td>\n",
       "      <td>converted</td>\n",
       "      <td>2020-04-21</td>\n",
       "      <td>2020-04-21</td>\n",
       "      <td>paid_ads</td>\n",
       "      <td>254</td>\n",
       "      <td>251-500</td>\n",
       "      <td>Software</td>\n",
       "    </tr>\n",
       "    <tr>\n",
       "      <th>91549</th>\n",
       "      <td>7210615860</td>\n",
       "      <td>converted</td>\n",
       "      <td>2019-09-10</td>\n",
       "      <td>2020-02-12</td>\n",
       "      <td>paid_ads</td>\n",
       "      <td>42</td>\n",
       "      <td>251-500</td>\n",
       "      <td>Software</td>\n",
       "    </tr>\n",
       "    <tr>\n",
       "      <th>91550</th>\n",
       "      <td>7210615860</td>\n",
       "      <td>converted</td>\n",
       "      <td>2020-04-21</td>\n",
       "      <td>2020-04-21</td>\n",
       "      <td>paid_ads</td>\n",
       "      <td>254</td>\n",
       "      <td>251-500</td>\n",
       "      <td>Software</td>\n",
       "    </tr>\n",
       "    <tr>\n",
       "      <th>91551</th>\n",
       "      <td>7210615860</td>\n",
       "      <td>converted</td>\n",
       "      <td>2019-09-10</td>\n",
       "      <td>2020-02-12</td>\n",
       "      <td>paid_ads</td>\n",
       "      <td>42</td>\n",
       "      <td>251-500</td>\n",
       "      <td>Software</td>\n",
       "    </tr>\n",
       "    <tr>\n",
       "      <th>91552</th>\n",
       "      <td>7210615860</td>\n",
       "      <td>converted</td>\n",
       "      <td>2020-04-21</td>\n",
       "      <td>2020-04-21</td>\n",
       "      <td>paid_ads</td>\n",
       "      <td>254</td>\n",
       "      <td>251-500</td>\n",
       "      <td>Software</td>\n",
       "    </tr>\n",
       "    <tr>\n",
       "      <th>91553</th>\n",
       "      <td>7210615860</td>\n",
       "      <td>converted</td>\n",
       "      <td>2019-09-10</td>\n",
       "      <td>2020-02-12</td>\n",
       "      <td>paid_ads</td>\n",
       "      <td>42</td>\n",
       "      <td>251-500</td>\n",
       "      <td>Software</td>\n",
       "    </tr>\n",
       "    <tr>\n",
       "      <th>91554</th>\n",
       "      <td>7210615860</td>\n",
       "      <td>converted</td>\n",
       "      <td>2020-04-21</td>\n",
       "      <td>2020-04-21</td>\n",
       "      <td>paid_ads</td>\n",
       "      <td>254</td>\n",
       "      <td>251-500</td>\n",
       "      <td>Software</td>\n",
       "    </tr>\n",
       "    <tr>\n",
       "      <th>91555</th>\n",
       "      <td>7210615860</td>\n",
       "      <td>converted</td>\n",
       "      <td>2019-09-10</td>\n",
       "      <td>2020-02-12</td>\n",
       "      <td>paid_ads</td>\n",
       "      <td>42</td>\n",
       "      <td>251-500</td>\n",
       "      <td>Software</td>\n",
       "    </tr>\n",
       "    <tr>\n",
       "      <th>91556</th>\n",
       "      <td>7210615860</td>\n",
       "      <td>converted</td>\n",
       "      <td>2020-04-21</td>\n",
       "      <td>2020-04-21</td>\n",
       "      <td>paid_ads</td>\n",
       "      <td>254</td>\n",
       "      <td>251-500</td>\n",
       "      <td>Software</td>\n",
       "    </tr>\n",
       "    <tr>\n",
       "      <th>91557</th>\n",
       "      <td>7210615860</td>\n",
       "      <td>converted</td>\n",
       "      <td>2019-09-10</td>\n",
       "      <td>2020-02-12</td>\n",
       "      <td>paid_ads</td>\n",
       "      <td>42</td>\n",
       "      <td>251-500</td>\n",
       "      <td>Software</td>\n",
       "    </tr>\n",
       "    <tr>\n",
       "      <th>91558</th>\n",
       "      <td>7210615860</td>\n",
       "      <td>converted</td>\n",
       "      <td>2020-04-21</td>\n",
       "      <td>2020-04-21</td>\n",
       "      <td>paid_ads</td>\n",
       "      <td>254</td>\n",
       "      <td>251-500</td>\n",
       "      <td>Software</td>\n",
       "    </tr>\n",
       "    <tr>\n",
       "      <th>91559</th>\n",
       "      <td>7210615860</td>\n",
       "      <td>converted</td>\n",
       "      <td>2019-09-10</td>\n",
       "      <td>2020-02-12</td>\n",
       "      <td>paid_ads</td>\n",
       "      <td>42</td>\n",
       "      <td>251-500</td>\n",
       "      <td>Software</td>\n",
       "    </tr>\n",
       "    <tr>\n",
       "      <th>91560</th>\n",
       "      <td>7210615860</td>\n",
       "      <td>converted</td>\n",
       "      <td>2020-04-21</td>\n",
       "      <td>2020-04-21</td>\n",
       "      <td>paid_ads</td>\n",
       "      <td>254</td>\n",
       "      <td>251-500</td>\n",
       "      <td>Software</td>\n",
       "    </tr>\n",
       "    <tr>\n",
       "      <th>91561</th>\n",
       "      <td>7210615860</td>\n",
       "      <td>converted</td>\n",
       "      <td>2019-09-10</td>\n",
       "      <td>2020-02-12</td>\n",
       "      <td>paid_ads</td>\n",
       "      <td>42</td>\n",
       "      <td>251-500</td>\n",
       "      <td>Software</td>\n",
       "    </tr>\n",
       "    <tr>\n",
       "      <th>91562</th>\n",
       "      <td>7210615860</td>\n",
       "      <td>converted</td>\n",
       "      <td>2020-04-21</td>\n",
       "      <td>2020-04-21</td>\n",
       "      <td>paid_ads</td>\n",
       "      <td>254</td>\n",
       "      <td>251-500</td>\n",
       "      <td>Software</td>\n",
       "    </tr>\n",
       "    <tr>\n",
       "      <th>91563</th>\n",
       "      <td>7210615860</td>\n",
       "      <td>converted</td>\n",
       "      <td>2019-09-10</td>\n",
       "      <td>2020-02-12</td>\n",
       "      <td>paid_ads</td>\n",
       "      <td>42</td>\n",
       "      <td>251-500</td>\n",
       "      <td>Software</td>\n",
       "    </tr>\n",
       "    <tr>\n",
       "      <th>91564</th>\n",
       "      <td>7210615860</td>\n",
       "      <td>converted</td>\n",
       "      <td>2020-04-21</td>\n",
       "      <td>2020-04-21</td>\n",
       "      <td>paid_ads</td>\n",
       "      <td>254</td>\n",
       "      <td>251-500</td>\n",
       "      <td>Software</td>\n",
       "    </tr>\n",
       "    <tr>\n",
       "      <th>91565</th>\n",
       "      <td>7210615860</td>\n",
       "      <td>converted</td>\n",
       "      <td>2019-09-10</td>\n",
       "      <td>2020-02-12</td>\n",
       "      <td>paid_ads</td>\n",
       "      <td>42</td>\n",
       "      <td>251-500</td>\n",
       "      <td>Software</td>\n",
       "    </tr>\n",
       "    <tr>\n",
       "      <th>91566</th>\n",
       "      <td>8182625037</td>\n",
       "      <td>rejected</td>\n",
       "      <td>2020-03-10</td>\n",
       "      <td>2020-03-10</td>\n",
       "      <td>paid_ads</td>\n",
       "      <td>156</td>\n",
       "      <td>5001-10000</td>\n",
       "      <td>Content and Publishing|Education|Hardware|Info...</td>\n",
       "    </tr>\n",
       "    <tr>\n",
       "      <th>91567</th>\n",
       "      <td>8182625037</td>\n",
       "      <td>rejected</td>\n",
       "      <td>2020-03-04</td>\n",
       "      <td>2020-03-10</td>\n",
       "      <td>paid_ads</td>\n",
       "      <td>388</td>\n",
       "      <td>5001-10000</td>\n",
       "      <td>Information Technology|Software</td>\n",
       "    </tr>\n",
       "    <tr>\n",
       "      <th>91568</th>\n",
       "      <td>8182625037</td>\n",
       "      <td>rejected</td>\n",
       "      <td>2019-10-17</td>\n",
       "      <td>2020-04-04</td>\n",
       "      <td>paid_ads</td>\n",
       "      <td>421</td>\n",
       "      <td>5001-10000</td>\n",
       "      <td>Artificial Intelligence|Data and Analytics|Inf...</td>\n",
       "    </tr>\n",
       "    <tr>\n",
       "      <th>91569</th>\n",
       "      <td>8182625037</td>\n",
       "      <td>rejected</td>\n",
       "      <td>2020-02-28</td>\n",
       "      <td>2020-03-09</td>\n",
       "      <td>paid_ads</td>\n",
       "      <td>463</td>\n",
       "      <td>5001-10000</td>\n",
       "      <td>Administrative Services|Apps|Hardware|Informat...</td>\n",
       "    </tr>\n",
       "    <tr>\n",
       "      <th>91570</th>\n",
       "      <td>8182625037</td>\n",
       "      <td>rejected</td>\n",
       "      <td>2019-10-22</td>\n",
       "      <td>2020-03-05</td>\n",
       "      <td>paid_ads</td>\n",
       "      <td>407</td>\n",
       "      <td>5001-10000</td>\n",
       "      <td>Apps|Education|Media and Entertainment|Software</td>\n",
       "    </tr>\n",
       "  </tbody>\n",
       "</table>\n",
       "</div>"
      ],
      "text/plain": [
       "               id lead_status creation_date status_change lead_source  \\\n",
       "91540  7210615860   converted    2020-04-21    2020-04-21    paid_ads   \n",
       "91541  7210615860   converted    2019-09-10    2020-02-12    paid_ads   \n",
       "91542  7210615860   converted    2020-04-21    2020-04-21    paid_ads   \n",
       "91543  7210615860   converted    2019-09-10    2020-02-12    paid_ads   \n",
       "91544  7210615860   converted    2020-04-21    2020-04-21    paid_ads   \n",
       "91545  7210615860   converted    2019-09-10    2020-02-12    paid_ads   \n",
       "91546  7210615860   converted    2020-04-21    2020-04-21    paid_ads   \n",
       "91547  7210615860   converted    2019-09-10    2020-02-12    paid_ads   \n",
       "91548  7210615860   converted    2020-04-21    2020-04-21    paid_ads   \n",
       "91549  7210615860   converted    2019-09-10    2020-02-12    paid_ads   \n",
       "91550  7210615860   converted    2020-04-21    2020-04-21    paid_ads   \n",
       "91551  7210615860   converted    2019-09-10    2020-02-12    paid_ads   \n",
       "91552  7210615860   converted    2020-04-21    2020-04-21    paid_ads   \n",
       "91553  7210615860   converted    2019-09-10    2020-02-12    paid_ads   \n",
       "91554  7210615860   converted    2020-04-21    2020-04-21    paid_ads   \n",
       "91555  7210615860   converted    2019-09-10    2020-02-12    paid_ads   \n",
       "91556  7210615860   converted    2020-04-21    2020-04-21    paid_ads   \n",
       "91557  7210615860   converted    2019-09-10    2020-02-12    paid_ads   \n",
       "91558  7210615860   converted    2020-04-21    2020-04-21    paid_ads   \n",
       "91559  7210615860   converted    2019-09-10    2020-02-12    paid_ads   \n",
       "91560  7210615860   converted    2020-04-21    2020-04-21    paid_ads   \n",
       "91561  7210615860   converted    2019-09-10    2020-02-12    paid_ads   \n",
       "91562  7210615860   converted    2020-04-21    2020-04-21    paid_ads   \n",
       "91563  7210615860   converted    2019-09-10    2020-02-12    paid_ads   \n",
       "91564  7210615860   converted    2020-04-21    2020-04-21    paid_ads   \n",
       "91565  7210615860   converted    2019-09-10    2020-02-12    paid_ads   \n",
       "91566  8182625037    rejected    2020-03-10    2020-03-10    paid_ads   \n",
       "91567  8182625037    rejected    2020-03-04    2020-03-10    paid_ads   \n",
       "91568  8182625037    rejected    2019-10-17    2020-04-04    paid_ads   \n",
       "91569  8182625037    rejected    2020-02-28    2020-03-09    paid_ads   \n",
       "91570  8182625037    rejected    2019-10-22    2020-03-05    paid_ads   \n",
       "\n",
       "       deal_size company_size  \\\n",
       "91540        254      251-500   \n",
       "91541         42      251-500   \n",
       "91542        254      251-500   \n",
       "91543         42      251-500   \n",
       "91544        254      251-500   \n",
       "91545         42      251-500   \n",
       "91546        254      251-500   \n",
       "91547         42      251-500   \n",
       "91548        254      251-500   \n",
       "91549         42      251-500   \n",
       "91550        254      251-500   \n",
       "91551         42      251-500   \n",
       "91552        254      251-500   \n",
       "91553         42      251-500   \n",
       "91554        254      251-500   \n",
       "91555         42      251-500   \n",
       "91556        254      251-500   \n",
       "91557         42      251-500   \n",
       "91558        254      251-500   \n",
       "91559         42      251-500   \n",
       "91560        254      251-500   \n",
       "91561         42      251-500   \n",
       "91562        254      251-500   \n",
       "91563         42      251-500   \n",
       "91564        254      251-500   \n",
       "91565         42      251-500   \n",
       "91566        156   5001-10000   \n",
       "91567        388   5001-10000   \n",
       "91568        421   5001-10000   \n",
       "91569        463   5001-10000   \n",
       "91570        407   5001-10000   \n",
       "\n",
       "                                        company_industry  \n",
       "91540                                           Software  \n",
       "91541                                           Software  \n",
       "91542                                           Software  \n",
       "91543                                           Software  \n",
       "91544                                           Software  \n",
       "91545                                           Software  \n",
       "91546                                           Software  \n",
       "91547                                           Software  \n",
       "91548                                           Software  \n",
       "91549                                           Software  \n",
       "91550                                           Software  \n",
       "91551                                           Software  \n",
       "91552                                           Software  \n",
       "91553                                           Software  \n",
       "91554                                           Software  \n",
       "91555                                           Software  \n",
       "91556                                           Software  \n",
       "91557                                           Software  \n",
       "91558                                           Software  \n",
       "91559                                           Software  \n",
       "91560                                           Software  \n",
       "91561                                           Software  \n",
       "91562                                           Software  \n",
       "91563                                           Software  \n",
       "91564                                           Software  \n",
       "91565                                           Software  \n",
       "91566  Content and Publishing|Education|Hardware|Info...  \n",
       "91567                    Information Technology|Software  \n",
       "91568  Artificial Intelligence|Data and Analytics|Inf...  \n",
       "91569  Administrative Services|Apps|Hardware|Informat...  \n",
       "91570    Apps|Education|Media and Entertainment|Software  "
      ]
     },
     "execution_count": 11,
     "metadata": {},
     "output_type": "execute_result"
    }
   ],
   "source": [
    "ids = data[\"id\"]\n",
    "data[ids.isin(ids[ids.duplicated()])]"
   ]
  },
  {
   "cell_type": "markdown",
   "metadata": {},
   "source": [
    "Removing the duplicate rows are keeping the first two"
   ]
  },
  {
   "cell_type": "code",
   "execution_count": 12,
   "metadata": {},
   "outputs": [],
   "source": [
    "data.drop_duplicates( keep = 'first', inplace = True) "
   ]
  },
  {
   "cell_type": "markdown",
   "metadata": {},
   "source": [
    "Check again for duplicate records\n",
    "\n",
    "Now, data looks like a desired "
   ]
  },
  {
   "cell_type": "code",
   "execution_count": 13,
   "metadata": {},
   "outputs": [
    {
     "data": {
      "text/html": [
       "<div>\n",
       "<style scoped>\n",
       "    .dataframe tbody tr th:only-of-type {\n",
       "        vertical-align: middle;\n",
       "    }\n",
       "\n",
       "    .dataframe tbody tr th {\n",
       "        vertical-align: top;\n",
       "    }\n",
       "\n",
       "    .dataframe thead th {\n",
       "        text-align: right;\n",
       "    }\n",
       "</style>\n",
       "<table border=\"1\" class=\"dataframe\">\n",
       "  <thead>\n",
       "    <tr style=\"text-align: right;\">\n",
       "      <th></th>\n",
       "      <th>id</th>\n",
       "      <th>lead_status</th>\n",
       "      <th>creation_date</th>\n",
       "      <th>status_change</th>\n",
       "      <th>lead_source</th>\n",
       "      <th>deal_size</th>\n",
       "      <th>company_size</th>\n",
       "      <th>company_industry</th>\n",
       "    </tr>\n",
       "  </thead>\n",
       "  <tbody>\n",
       "    <tr>\n",
       "      <th>91540</th>\n",
       "      <td>7210615860</td>\n",
       "      <td>converted</td>\n",
       "      <td>2020-04-21</td>\n",
       "      <td>2020-04-21</td>\n",
       "      <td>paid_ads</td>\n",
       "      <td>254</td>\n",
       "      <td>251-500</td>\n",
       "      <td>Software</td>\n",
       "    </tr>\n",
       "    <tr>\n",
       "      <th>91541</th>\n",
       "      <td>7210615860</td>\n",
       "      <td>converted</td>\n",
       "      <td>2019-09-10</td>\n",
       "      <td>2020-02-12</td>\n",
       "      <td>paid_ads</td>\n",
       "      <td>42</td>\n",
       "      <td>251-500</td>\n",
       "      <td>Software</td>\n",
       "    </tr>\n",
       "    <tr>\n",
       "      <th>91566</th>\n",
       "      <td>8182625037</td>\n",
       "      <td>rejected</td>\n",
       "      <td>2020-03-10</td>\n",
       "      <td>2020-03-10</td>\n",
       "      <td>paid_ads</td>\n",
       "      <td>156</td>\n",
       "      <td>5001-10000</td>\n",
       "      <td>Content and Publishing|Education|Hardware|Info...</td>\n",
       "    </tr>\n",
       "    <tr>\n",
       "      <th>91567</th>\n",
       "      <td>8182625037</td>\n",
       "      <td>rejected</td>\n",
       "      <td>2020-03-04</td>\n",
       "      <td>2020-03-10</td>\n",
       "      <td>paid_ads</td>\n",
       "      <td>388</td>\n",
       "      <td>5001-10000</td>\n",
       "      <td>Information Technology|Software</td>\n",
       "    </tr>\n",
       "    <tr>\n",
       "      <th>91568</th>\n",
       "      <td>8182625037</td>\n",
       "      <td>rejected</td>\n",
       "      <td>2019-10-17</td>\n",
       "      <td>2020-04-04</td>\n",
       "      <td>paid_ads</td>\n",
       "      <td>421</td>\n",
       "      <td>5001-10000</td>\n",
       "      <td>Artificial Intelligence|Data and Analytics|Inf...</td>\n",
       "    </tr>\n",
       "    <tr>\n",
       "      <th>91569</th>\n",
       "      <td>8182625037</td>\n",
       "      <td>rejected</td>\n",
       "      <td>2020-02-28</td>\n",
       "      <td>2020-03-09</td>\n",
       "      <td>paid_ads</td>\n",
       "      <td>463</td>\n",
       "      <td>5001-10000</td>\n",
       "      <td>Administrative Services|Apps|Hardware|Informat...</td>\n",
       "    </tr>\n",
       "    <tr>\n",
       "      <th>91570</th>\n",
       "      <td>8182625037</td>\n",
       "      <td>rejected</td>\n",
       "      <td>2019-10-22</td>\n",
       "      <td>2020-03-05</td>\n",
       "      <td>paid_ads</td>\n",
       "      <td>407</td>\n",
       "      <td>5001-10000</td>\n",
       "      <td>Apps|Education|Media and Entertainment|Software</td>\n",
       "    </tr>\n",
       "  </tbody>\n",
       "</table>\n",
       "</div>"
      ],
      "text/plain": [
       "               id lead_status creation_date status_change lead_source  \\\n",
       "91540  7210615860   converted    2020-04-21    2020-04-21    paid_ads   \n",
       "91541  7210615860   converted    2019-09-10    2020-02-12    paid_ads   \n",
       "91566  8182625037    rejected    2020-03-10    2020-03-10    paid_ads   \n",
       "91567  8182625037    rejected    2020-03-04    2020-03-10    paid_ads   \n",
       "91568  8182625037    rejected    2019-10-17    2020-04-04    paid_ads   \n",
       "91569  8182625037    rejected    2020-02-28    2020-03-09    paid_ads   \n",
       "91570  8182625037    rejected    2019-10-22    2020-03-05    paid_ads   \n",
       "\n",
       "       deal_size company_size  \\\n",
       "91540        254      251-500   \n",
       "91541         42      251-500   \n",
       "91566        156   5001-10000   \n",
       "91567        388   5001-10000   \n",
       "91568        421   5001-10000   \n",
       "91569        463   5001-10000   \n",
       "91570        407   5001-10000   \n",
       "\n",
       "                                        company_industry  \n",
       "91540                                           Software  \n",
       "91541                                           Software  \n",
       "91566  Content and Publishing|Education|Hardware|Info...  \n",
       "91567                    Information Technology|Software  \n",
       "91568  Artificial Intelligence|Data and Analytics|Inf...  \n",
       "91569  Administrative Services|Apps|Hardware|Informat...  \n",
       "91570    Apps|Education|Media and Entertainment|Software  "
      ]
     },
     "execution_count": 13,
     "metadata": {},
     "output_type": "execute_result"
    }
   ],
   "source": [
    "ids = data[\"id\"]\n",
    "data[ids.isin(ids[ids.duplicated()])]"
   ]
  },
  {
   "cell_type": "markdown",
   "metadata": {},
   "source": [
    "Checking the first 5 rows "
   ]
  },
  {
   "cell_type": "code",
   "execution_count": 14,
   "metadata": {},
   "outputs": [
    {
     "data": {
      "text/html": [
       "<div>\n",
       "<style scoped>\n",
       "    .dataframe tbody tr th:only-of-type {\n",
       "        vertical-align: middle;\n",
       "    }\n",
       "\n",
       "    .dataframe tbody tr th {\n",
       "        vertical-align: top;\n",
       "    }\n",
       "\n",
       "    .dataframe thead th {\n",
       "        text-align: right;\n",
       "    }\n",
       "</style>\n",
       "<table border=\"1\" class=\"dataframe\">\n",
       "  <thead>\n",
       "    <tr style=\"text-align: right;\">\n",
       "      <th></th>\n",
       "      <th>id</th>\n",
       "      <th>lead_status</th>\n",
       "      <th>creation_date</th>\n",
       "      <th>status_change</th>\n",
       "      <th>lead_source</th>\n",
       "      <th>deal_size</th>\n",
       "      <th>company_size</th>\n",
       "      <th>company_industry</th>\n",
       "    </tr>\n",
       "  </thead>\n",
       "  <tbody>\n",
       "    <tr>\n",
       "      <th>0</th>\n",
       "      <td>25691639</td>\n",
       "      <td>qualification</td>\n",
       "      <td>2020-03-30</td>\n",
       "      <td>2020-03-31</td>\n",
       "      <td>paid_ads</td>\n",
       "      <td>112</td>\n",
       "      <td>251-500</td>\n",
       "      <td>Commerce and Shopping|Financial Services|Infor...</td>\n",
       "    </tr>\n",
       "    <tr>\n",
       "      <th>1</th>\n",
       "      <td>66519272</td>\n",
       "      <td>rejected</td>\n",
       "      <td>2019-12-24</td>\n",
       "      <td>2019-12-24</td>\n",
       "      <td>paid_ads</td>\n",
       "      <td>428</td>\n",
       "      <td>5001-10000</td>\n",
       "      <td>Data and Analytics|Information Technology|Mobi...</td>\n",
       "    </tr>\n",
       "    <tr>\n",
       "      <th>2</th>\n",
       "      <td>102989944</td>\n",
       "      <td>converted</td>\n",
       "      <td>2019-09-14</td>\n",
       "      <td>2020-01-05</td>\n",
       "      <td>paid_ads</td>\n",
       "      <td>87</td>\n",
       "      <td>501-1000</td>\n",
       "      <td>Financial Services</td>\n",
       "    </tr>\n",
       "    <tr>\n",
       "      <th>3</th>\n",
       "      <td>244285609</td>\n",
       "      <td>rejected</td>\n",
       "      <td>2020-01-27</td>\n",
       "      <td>2020-01-27</td>\n",
       "      <td>consumer_website</td>\n",
       "      <td>128</td>\n",
       "      <td>251-500</td>\n",
       "      <td>Legal</td>\n",
       "    </tr>\n",
       "    <tr>\n",
       "      <th>4</th>\n",
       "      <td>255755011</td>\n",
       "      <td>rejected</td>\n",
       "      <td>2020-03-12</td>\n",
       "      <td>2020-03-12</td>\n",
       "      <td>paid_ads</td>\n",
       "      <td>245</td>\n",
       "      <td>251-500</td>\n",
       "      <td>Legal</td>\n",
       "    </tr>\n",
       "  </tbody>\n",
       "</table>\n",
       "</div>"
      ],
      "text/plain": [
       "          id    lead_status creation_date status_change       lead_source  \\\n",
       "0   25691639  qualification    2020-03-30    2020-03-31          paid_ads   \n",
       "1   66519272       rejected    2019-12-24    2019-12-24          paid_ads   \n",
       "2  102989944      converted    2019-09-14    2020-01-05          paid_ads   \n",
       "3  244285609       rejected    2020-01-27    2020-01-27  consumer_website   \n",
       "4  255755011       rejected    2020-03-12    2020-03-12          paid_ads   \n",
       "\n",
       "   deal_size company_size                                   company_industry  \n",
       "0        112      251-500  Commerce and Shopping|Financial Services|Infor...  \n",
       "1        428   5001-10000  Data and Analytics|Information Technology|Mobi...  \n",
       "2         87     501-1000                                 Financial Services  \n",
       "3        128      251-500                                              Legal  \n",
       "4        245      251-500                                              Legal  "
      ]
     },
     "execution_count": 14,
     "metadata": {},
     "output_type": "execute_result"
    }
   ],
   "source": [
    "data.head()"
   ]
  },
  {
   "cell_type": "markdown",
   "metadata": {},
   "source": [
    "Spliting company_industry column values"
   ]
  },
  {
   "cell_type": "code",
   "execution_count": 15,
   "metadata": {},
   "outputs": [],
   "source": [
    "split_dataframe = pd.DataFrame(data.company_industry.str.split('|').tolist(), index=data.id).stack()\n",
    "split_dataframe = split_dataframe.reset_index([0, 'id'])\n",
    "split_dataframe.columns = ['id', 'company_industry']"
   ]
  },
  {
   "cell_type": "markdown",
   "metadata": {},
   "source": [
    "Merging the two dataframes"
   ]
  },
  {
   "cell_type": "code",
   "execution_count": 16,
   "metadata": {},
   "outputs": [],
   "source": [
    "sales_data = pd.merge(data.drop('company_industry', 1), split_dataframe, on=['id','id'])"
   ]
  },
  {
   "cell_type": "code",
   "execution_count": 17,
   "metadata": {
    "scrolled": false
   },
   "outputs": [
    {
     "data": {
      "text/html": [
       "<div>\n",
       "<style scoped>\n",
       "    .dataframe tbody tr th:only-of-type {\n",
       "        vertical-align: middle;\n",
       "    }\n",
       "\n",
       "    .dataframe tbody tr th {\n",
       "        vertical-align: top;\n",
       "    }\n",
       "\n",
       "    .dataframe thead th {\n",
       "        text-align: right;\n",
       "    }\n",
       "</style>\n",
       "<table border=\"1\" class=\"dataframe\">\n",
       "  <thead>\n",
       "    <tr style=\"text-align: right;\">\n",
       "      <th></th>\n",
       "      <th>id</th>\n",
       "      <th>lead_status</th>\n",
       "      <th>creation_date</th>\n",
       "      <th>status_change</th>\n",
       "      <th>lead_source</th>\n",
       "      <th>deal_size</th>\n",
       "      <th>company_size</th>\n",
       "      <th>company_industry</th>\n",
       "    </tr>\n",
       "  </thead>\n",
       "  <tbody>\n",
       "    <tr>\n",
       "      <th>0</th>\n",
       "      <td>25691639</td>\n",
       "      <td>qualification</td>\n",
       "      <td>2020-03-30</td>\n",
       "      <td>2020-03-31</td>\n",
       "      <td>paid_ads</td>\n",
       "      <td>112</td>\n",
       "      <td>251-500</td>\n",
       "      <td>Commerce and Shopping</td>\n",
       "    </tr>\n",
       "    <tr>\n",
       "      <th>1</th>\n",
       "      <td>25691639</td>\n",
       "      <td>qualification</td>\n",
       "      <td>2020-03-30</td>\n",
       "      <td>2020-03-31</td>\n",
       "      <td>paid_ads</td>\n",
       "      <td>112</td>\n",
       "      <td>251-500</td>\n",
       "      <td>Financial Services</td>\n",
       "    </tr>\n",
       "    <tr>\n",
       "      <th>2</th>\n",
       "      <td>25691639</td>\n",
       "      <td>qualification</td>\n",
       "      <td>2020-03-30</td>\n",
       "      <td>2020-03-31</td>\n",
       "      <td>paid_ads</td>\n",
       "      <td>112</td>\n",
       "      <td>251-500</td>\n",
       "      <td>Information Technology</td>\n",
       "    </tr>\n",
       "    <tr>\n",
       "      <th>3</th>\n",
       "      <td>25691639</td>\n",
       "      <td>qualification</td>\n",
       "      <td>2020-03-30</td>\n",
       "      <td>2020-03-31</td>\n",
       "      <td>paid_ads</td>\n",
       "      <td>112</td>\n",
       "      <td>251-500</td>\n",
       "      <td>Internet Services</td>\n",
       "    </tr>\n",
       "    <tr>\n",
       "      <th>4</th>\n",
       "      <td>25691639</td>\n",
       "      <td>qualification</td>\n",
       "      <td>2020-03-30</td>\n",
       "      <td>2020-03-31</td>\n",
       "      <td>paid_ads</td>\n",
       "      <td>112</td>\n",
       "      <td>251-500</td>\n",
       "      <td>Lending and Investments</td>\n",
       "    </tr>\n",
       "    <tr>\n",
       "      <th>5</th>\n",
       "      <td>25691639</td>\n",
       "      <td>qualification</td>\n",
       "      <td>2020-03-30</td>\n",
       "      <td>2020-03-31</td>\n",
       "      <td>paid_ads</td>\n",
       "      <td>112</td>\n",
       "      <td>251-500</td>\n",
       "      <td>Software</td>\n",
       "    </tr>\n",
       "    <tr>\n",
       "      <th>6</th>\n",
       "      <td>66519272</td>\n",
       "      <td>rejected</td>\n",
       "      <td>2019-12-24</td>\n",
       "      <td>2019-12-24</td>\n",
       "      <td>paid_ads</td>\n",
       "      <td>428</td>\n",
       "      <td>5001-10000</td>\n",
       "      <td>Data and Analytics</td>\n",
       "    </tr>\n",
       "    <tr>\n",
       "      <th>7</th>\n",
       "      <td>66519272</td>\n",
       "      <td>rejected</td>\n",
       "      <td>2019-12-24</td>\n",
       "      <td>2019-12-24</td>\n",
       "      <td>paid_ads</td>\n",
       "      <td>428</td>\n",
       "      <td>5001-10000</td>\n",
       "      <td>Information Technology</td>\n",
       "    </tr>\n",
       "    <tr>\n",
       "      <th>8</th>\n",
       "      <td>66519272</td>\n",
       "      <td>rejected</td>\n",
       "      <td>2019-12-24</td>\n",
       "      <td>2019-12-24</td>\n",
       "      <td>paid_ads</td>\n",
       "      <td>428</td>\n",
       "      <td>5001-10000</td>\n",
       "      <td>Mobile</td>\n",
       "    </tr>\n",
       "    <tr>\n",
       "      <th>9</th>\n",
       "      <td>66519272</td>\n",
       "      <td>rejected</td>\n",
       "      <td>2019-12-24</td>\n",
       "      <td>2019-12-24</td>\n",
       "      <td>paid_ads</td>\n",
       "      <td>428</td>\n",
       "      <td>5001-10000</td>\n",
       "      <td>Sales and Marketing</td>\n",
       "    </tr>\n",
       "  </tbody>\n",
       "</table>\n",
       "</div>"
      ],
      "text/plain": [
       "         id    lead_status creation_date status_change lead_source  deal_size  \\\n",
       "0  25691639  qualification    2020-03-30    2020-03-31    paid_ads        112   \n",
       "1  25691639  qualification    2020-03-30    2020-03-31    paid_ads        112   \n",
       "2  25691639  qualification    2020-03-30    2020-03-31    paid_ads        112   \n",
       "3  25691639  qualification    2020-03-30    2020-03-31    paid_ads        112   \n",
       "4  25691639  qualification    2020-03-30    2020-03-31    paid_ads        112   \n",
       "5  25691639  qualification    2020-03-30    2020-03-31    paid_ads        112   \n",
       "6  66519272       rejected    2019-12-24    2019-12-24    paid_ads        428   \n",
       "7  66519272       rejected    2019-12-24    2019-12-24    paid_ads        428   \n",
       "8  66519272       rejected    2019-12-24    2019-12-24    paid_ads        428   \n",
       "9  66519272       rejected    2019-12-24    2019-12-24    paid_ads        428   \n",
       "\n",
       "  company_size         company_industry  \n",
       "0      251-500    Commerce and Shopping  \n",
       "1      251-500       Financial Services  \n",
       "2      251-500   Information Technology  \n",
       "3      251-500        Internet Services  \n",
       "4      251-500  Lending and Investments  \n",
       "5      251-500                 Software  \n",
       "6   5001-10000       Data and Analytics  \n",
       "7   5001-10000   Information Technology  \n",
       "8   5001-10000                   Mobile  \n",
       "9   5001-10000      Sales and Marketing  "
      ]
     },
     "execution_count": 17,
     "metadata": {},
     "output_type": "execute_result"
    }
   ],
   "source": [
    "sales_data.head(10)"
   ]
  },
  {
   "cell_type": "markdown",
   "metadata": {},
   "source": [
    "Checking the shape of the dataframe: we can now see out dataframe length has increase significantly"
   ]
  },
  {
   "cell_type": "code",
   "execution_count": 18,
   "metadata": {},
   "outputs": [
    {
     "data": {
      "text/plain": [
       "(247196, 8)"
      ]
     },
     "execution_count": 18,
     "metadata": {},
     "output_type": "execute_result"
    }
   ],
   "source": [
    "sales_data.shape"
   ]
  },
  {
   "cell_type": "markdown",
   "metadata": {},
   "source": [
    "Creating Additional column to find the difference between Created Date and Last Status Change date"
   ]
  },
  {
   "cell_type": "code",
   "execution_count": 89,
   "metadata": {},
   "outputs": [],
   "source": [
    "sales_data['Day_Since_Change'] = (pd.to_datetime(sales_data['status_change']) - \n",
    "                                  pd.to_datetime(sales_data['creation_date'])).dt.days"
   ]
  },
  {
   "cell_type": "code",
   "execution_count": 90,
   "metadata": {},
   "outputs": [
    {
     "data": {
      "text/html": [
       "<div>\n",
       "<style scoped>\n",
       "    .dataframe tbody tr th:only-of-type {\n",
       "        vertical-align: middle;\n",
       "    }\n",
       "\n",
       "    .dataframe tbody tr th {\n",
       "        vertical-align: top;\n",
       "    }\n",
       "\n",
       "    .dataframe thead th {\n",
       "        text-align: right;\n",
       "    }\n",
       "</style>\n",
       "<table border=\"1\" class=\"dataframe\">\n",
       "  <thead>\n",
       "    <tr style=\"text-align: right;\">\n",
       "      <th></th>\n",
       "      <th>id</th>\n",
       "      <th>lead_status</th>\n",
       "      <th>creation_date</th>\n",
       "      <th>status_change</th>\n",
       "      <th>lead_source</th>\n",
       "      <th>deal_size</th>\n",
       "      <th>company_size</th>\n",
       "      <th>company_industry</th>\n",
       "      <th>Day_Since_Change</th>\n",
       "    </tr>\n",
       "  </thead>\n",
       "  <tbody>\n",
       "    <tr>\n",
       "      <th>0</th>\n",
       "      <td>25691639</td>\n",
       "      <td>qualification</td>\n",
       "      <td>2020-03-30</td>\n",
       "      <td>2020-03-31</td>\n",
       "      <td>paid_ads</td>\n",
       "      <td>112</td>\n",
       "      <td>251-500</td>\n",
       "      <td>Commerce and Shopping</td>\n",
       "      <td>1</td>\n",
       "    </tr>\n",
       "    <tr>\n",
       "      <th>1</th>\n",
       "      <td>25691639</td>\n",
       "      <td>qualification</td>\n",
       "      <td>2020-03-30</td>\n",
       "      <td>2020-03-31</td>\n",
       "      <td>paid_ads</td>\n",
       "      <td>112</td>\n",
       "      <td>251-500</td>\n",
       "      <td>Financial Services</td>\n",
       "      <td>1</td>\n",
       "    </tr>\n",
       "    <tr>\n",
       "      <th>2</th>\n",
       "      <td>25691639</td>\n",
       "      <td>qualification</td>\n",
       "      <td>2020-03-30</td>\n",
       "      <td>2020-03-31</td>\n",
       "      <td>paid_ads</td>\n",
       "      <td>112</td>\n",
       "      <td>251-500</td>\n",
       "      <td>Information Technology</td>\n",
       "      <td>1</td>\n",
       "    </tr>\n",
       "    <tr>\n",
       "      <th>3</th>\n",
       "      <td>25691639</td>\n",
       "      <td>qualification</td>\n",
       "      <td>2020-03-30</td>\n",
       "      <td>2020-03-31</td>\n",
       "      <td>paid_ads</td>\n",
       "      <td>112</td>\n",
       "      <td>251-500</td>\n",
       "      <td>Internet Services</td>\n",
       "      <td>1</td>\n",
       "    </tr>\n",
       "    <tr>\n",
       "      <th>4</th>\n",
       "      <td>25691639</td>\n",
       "      <td>qualification</td>\n",
       "      <td>2020-03-30</td>\n",
       "      <td>2020-03-31</td>\n",
       "      <td>paid_ads</td>\n",
       "      <td>112</td>\n",
       "      <td>251-500</td>\n",
       "      <td>Lending and Investments</td>\n",
       "      <td>1</td>\n",
       "    </tr>\n",
       "  </tbody>\n",
       "</table>\n",
       "</div>"
      ],
      "text/plain": [
       "         id    lead_status creation_date status_change lead_source  deal_size  \\\n",
       "0  25691639  qualification    2020-03-30    2020-03-31    paid_ads        112   \n",
       "1  25691639  qualification    2020-03-30    2020-03-31    paid_ads        112   \n",
       "2  25691639  qualification    2020-03-30    2020-03-31    paid_ads        112   \n",
       "3  25691639  qualification    2020-03-30    2020-03-31    paid_ads        112   \n",
       "4  25691639  qualification    2020-03-30    2020-03-31    paid_ads        112   \n",
       "\n",
       "  company_size         company_industry  Day_Since_Change  \n",
       "0      251-500    Commerce and Shopping                 1  \n",
       "1      251-500       Financial Services                 1  \n",
       "2      251-500   Information Technology                 1  \n",
       "3      251-500        Internet Services                 1  \n",
       "4      251-500  Lending and Investments                 1  "
      ]
     },
     "execution_count": 90,
     "metadata": {},
     "output_type": "execute_result"
    }
   ],
   "source": [
    "sales_data.head(5)"
   ]
  },
  {
   "cell_type": "markdown",
   "metadata": {},
   "source": [
    "Additng another columns which will help me to identity how many industries being listed in indivdual lead_ID and also the top row for further analysis"
   ]
  },
  {
   "cell_type": "code",
   "execution_count": 91,
   "metadata": {},
   "outputs": [],
   "source": [
    "q1 = \"\"\"SELECT *, row_number() over(partition by id order by company_industry) as rank FROM sales_data \"\"\"\n",
    "sales_data_rank = ps.sqldf(q1, locals())"
   ]
  },
  {
   "cell_type": "code",
   "execution_count": 92,
   "metadata": {
    "scrolled": false
   },
   "outputs": [
    {
     "data": {
      "text/html": [
       "<div>\n",
       "<style scoped>\n",
       "    .dataframe tbody tr th:only-of-type {\n",
       "        vertical-align: middle;\n",
       "    }\n",
       "\n",
       "    .dataframe tbody tr th {\n",
       "        vertical-align: top;\n",
       "    }\n",
       "\n",
       "    .dataframe thead th {\n",
       "        text-align: right;\n",
       "    }\n",
       "</style>\n",
       "<table border=\"1\" class=\"dataframe\">\n",
       "  <thead>\n",
       "    <tr style=\"text-align: right;\">\n",
       "      <th></th>\n",
       "      <th>id</th>\n",
       "      <th>lead_status</th>\n",
       "      <th>creation_date</th>\n",
       "      <th>status_change</th>\n",
       "      <th>lead_source</th>\n",
       "      <th>deal_size</th>\n",
       "      <th>company_size</th>\n",
       "      <th>company_industry</th>\n",
       "      <th>Day_Since_Change</th>\n",
       "      <th>rank</th>\n",
       "    </tr>\n",
       "  </thead>\n",
       "  <tbody>\n",
       "    <tr>\n",
       "      <th>0</th>\n",
       "      <td>102989944</td>\n",
       "      <td>converted</td>\n",
       "      <td>2019-09-14</td>\n",
       "      <td>2020-01-05</td>\n",
       "      <td>paid_ads</td>\n",
       "      <td>87</td>\n",
       "      <td>501-1000</td>\n",
       "      <td>Financial Services</td>\n",
       "      <td>113</td>\n",
       "      <td>1</td>\n",
       "    </tr>\n",
       "    <tr>\n",
       "      <th>1</th>\n",
       "      <td>1117174955</td>\n",
       "      <td>converted</td>\n",
       "      <td>2019-07-13</td>\n",
       "      <td>2019-12-05</td>\n",
       "      <td>consumer_website</td>\n",
       "      <td>759</td>\n",
       "      <td>501-1000</td>\n",
       "      <td>Financial Services</td>\n",
       "      <td>145</td>\n",
       "      <td>1</td>\n",
       "    </tr>\n",
       "    <tr>\n",
       "      <th>2</th>\n",
       "      <td>1143059002</td>\n",
       "      <td>rejected</td>\n",
       "      <td>2020-01-12</td>\n",
       "      <td>2020-01-12</td>\n",
       "      <td>paid_ads</td>\n",
       "      <td>17</td>\n",
       "      <td>5001-10000</td>\n",
       "      <td>Financial Services</td>\n",
       "      <td>0</td>\n",
       "      <td>1</td>\n",
       "    </tr>\n",
       "    <tr>\n",
       "      <th>3</th>\n",
       "      <td>1143059002</td>\n",
       "      <td>rejected</td>\n",
       "      <td>2020-01-12</td>\n",
       "      <td>2020-01-12</td>\n",
       "      <td>paid_ads</td>\n",
       "      <td>17</td>\n",
       "      <td>5001-10000</td>\n",
       "      <td>Information Technology</td>\n",
       "      <td>0</td>\n",
       "      <td>2</td>\n",
       "    </tr>\n",
       "    <tr>\n",
       "      <th>4</th>\n",
       "      <td>1143059002</td>\n",
       "      <td>rejected</td>\n",
       "      <td>2020-01-12</td>\n",
       "      <td>2020-01-12</td>\n",
       "      <td>paid_ads</td>\n",
       "      <td>17</td>\n",
       "      <td>5001-10000</td>\n",
       "      <td>Internet Services</td>\n",
       "      <td>0</td>\n",
       "      <td>3</td>\n",
       "    </tr>\n",
       "  </tbody>\n",
       "</table>\n",
       "</div>"
      ],
      "text/plain": [
       "           id lead_status creation_date status_change       lead_source  \\\n",
       "0   102989944   converted    2019-09-14    2020-01-05          paid_ads   \n",
       "1  1117174955   converted    2019-07-13    2019-12-05  consumer_website   \n",
       "2  1143059002    rejected    2020-01-12    2020-01-12          paid_ads   \n",
       "3  1143059002    rejected    2020-01-12    2020-01-12          paid_ads   \n",
       "4  1143059002    rejected    2020-01-12    2020-01-12          paid_ads   \n",
       "\n",
       "   deal_size company_size        company_industry  Day_Since_Change  rank  \n",
       "0         87     501-1000      Financial Services               113     1  \n",
       "1        759     501-1000      Financial Services               145     1  \n",
       "2         17   5001-10000      Financial Services                 0     1  \n",
       "3         17   5001-10000  Information Technology                 0     2  \n",
       "4         17   5001-10000       Internet Services                 0     3  "
      ]
     },
     "execution_count": 92,
     "metadata": {},
     "output_type": "execute_result"
    }
   ],
   "source": [
    "sales_data_rank.head(5)"
   ]
  },
  {
   "cell_type": "markdown",
   "metadata": {},
   "source": [
    "Now our dataframe looks as desired, I am extracting this in CSV to use it in Tableau"
   ]
  },
  {
   "cell_type": "code",
   "execution_count": 93,
   "metadata": {},
   "outputs": [],
   "source": [
    "sales_data_rank.to_csv('grammarly_dataset_.csv', encoding='utf-8')"
   ]
  },
  {
   "cell_type": "code",
   "execution_count": 85,
   "metadata": {},
   "outputs": [
    {
     "data": {
      "text/plain": [
       "(247196, 10)"
      ]
     },
     "execution_count": 85,
     "metadata": {},
     "output_type": "execute_result"
    }
   ],
   "source": [
    "sales_data_rank.shape"
   ]
  },
  {
   "cell_type": "markdown",
   "metadata": {},
   "source": [
    "## Exploratory Analysis"
   ]
  },
  {
   "cell_type": "markdown",
   "metadata": {},
   "source": [
    "Distribution of leads based on Status and Source\n",
    "\n",
    "We can notice that lead source does not significantly varies across all status"
   ]
  },
  {
   "cell_type": "code",
   "execution_count": 21,
   "metadata": {},
   "outputs": [
    {
     "data": {
      "text/plain": [
       "<matplotlib.legend.Legend at 0x216685a2400>"
      ]
     },
     "execution_count": 21,
     "metadata": {},
     "output_type": "execute_result"
    },
    {
     "data": {
      "image/png": "[encoded data removed]",
      "text/plain": [
       "<Figure size 432x288 with 1 Axes>"
      ]
     },
     "metadata": {},
     "output_type": "display_data"
    }
   ],
   "source": [
    "sns.countplot(data['lead_status'], \n",
    "              hue= data['lead_source']).legend(loc='center left', \n",
    "                                                bbox_to_anchor=(1.25, 0.5), \n",
    "                                                ncol=1)"
   ]
  },
  {
   "cell_type": "markdown",
   "metadata": {},
   "source": [
    "Distribution of leads across industry\n",
    "\n",
    "Majority of the customers working in software industry followed by financial and healthcare"
   ]
  },
  {
   "cell_type": "code",
   "execution_count": 22,
   "metadata": {
    "scrolled": true
   },
   "outputs": [
    {
     "data": {
      "image/png": "[encoded data removed]",
      "text/plain": [
       "<Figure size 1440x720 with 1 Axes>"
      ]
     },
     "metadata": {},
     "output_type": "display_data"
    }
   ],
   "source": [
    "plt.figure(figsize=(20,10))\n",
    "chart = sns.countplot('company_industry', \n",
    "                      data = sales_data,  \n",
    "                      order = sales_data['company_industry'].value_counts().index)\n",
    "var = chart.set_xticklabels(chart.get_xticklabels(), \n",
    "                            rotation=90)\n"
   ]
  },
  {
   "cell_type": "markdown",
   "metadata": {},
   "source": [
    "Count of leads across company size\n",
    "\n",
    "Majority of the leads belong to company with size between 251-500"
   ]
  },
  {
   "cell_type": "code",
   "execution_count": 23,
   "metadata": {
    "scrolled": true
   },
   "outputs": [
    {
     "data": {
      "text/plain": [
       "<matplotlib.axes._subplots.AxesSubplot at 0x21669e87ac8>"
      ]
     },
     "execution_count": 23,
     "metadata": {},
     "output_type": "execute_result"
    },
    {
     "data": {
      "image/png": "[encoded data removed]",
      "text/plain": [
       "<Figure size 432x288 with 1 Axes>"
      ]
     },
     "metadata": {},
     "output_type": "display_data"
    }
   ],
   "source": [
    "sns.countplot(data['company_size'], \n",
    "              order = sales_data['company_size'].value_counts().index)"
   ]
  },
  {
   "cell_type": "markdown",
   "metadata": {},
   "source": [
    "Distribution of leads across company size and status \n",
    "\n",
    "Majority of the convereted leads has comapny size between 501-1000"
   ]
  },
  {
   "cell_type": "code",
   "execution_count": 24,
   "metadata": {
    "scrolled": true
   },
   "outputs": [
    {
     "data": {
      "text/plain": [
       "<matplotlib.legend.Legend at 0x21668f05ef0>"
      ]
     },
     "execution_count": 24,
     "metadata": {},
     "output_type": "execute_result"
    },
    {
     "data": {
      "image/png": "[encoded data removed]",
      "text/plain": [
       "<Figure size 720x576 with 1 Axes>"
      ]
     },
     "metadata": {},
     "output_type": "display_data"
    }
   ],
   "source": [
    "plt.figure(figsize=(10,8))\n",
    "sns.countplot(data['company_size'], hue = data['lead_status'],\n",
    "              order = sales_data['company_size'].value_counts().index).legend(loc='center left', \n",
    "                                                                                bbox_to_anchor=(1.25, 0.5), \n",
    "                                                                                ncol=1)"
   ]
  },
  {
   "cell_type": "markdown",
   "metadata": {},
   "source": [
    "Distribution of deal size\n",
    "\n",
    "Shape is skewed towards right "
   ]
  },
  {
   "cell_type": "code",
   "execution_count": 25,
   "metadata": {},
   "outputs": [
    {
     "data": {
      "text/plain": [
       "<matplotlib.axes._subplots.AxesSubplot at 0x21669e877b8>"
      ]
     },
     "execution_count": 25,
     "metadata": {},
     "output_type": "execute_result"
    },
    {
     "data": {
      "image/png": "[encoded data removed]",
      "text/plain": [
       "<Figure size 720x576 with 1 Axes>"
      ]
     },
     "metadata": {},
     "output_type": "display_data"
    }
   ],
   "source": [
    "plt.figure(figsize=(10,8))\n",
    "sns.distplot(data['deal_size'], bins= 20, kde= False)"
   ]
  },
  {
   "cell_type": "markdown",
   "metadata": {},
   "source": [
    "Deal Size across Company Size\n",
    "\n",
    "Average deal size is around ~2450 for comapny size 1000-5001"
   ]
  },
  {
   "cell_type": "code",
   "execution_count": 62,
   "metadata": {
    "scrolled": false
   },
   "outputs": [
    {
     "data": {
      "text/plain": [
       "<matplotlib.axes._subplots.AxesSubplot at 0x2167ade2128>"
      ]
     },
     "execution_count": 62,
     "metadata": {},
     "output_type": "execute_result"
    },
    {
     "data": {
      "image/png": "[encoded data removed]",
      "text/plain": [
       "<Figure size 720x432 with 1 Axes>"
      ]
     },
     "metadata": {},
     "output_type": "display_data"
    }
   ],
   "source": [
    "plt.figure(figsize=(10,6))\n",
    "sns.barplot(sales_data['company_size'], sales_data['deal_size'])"
   ]
  },
  {
   "cell_type": "markdown",
   "metadata": {},
   "source": [
    "Average day since_last_updated according to lead status  "
   ]
  },
  {
   "cell_type": "code",
   "execution_count": 42,
   "metadata": {},
   "outputs": [
    {
     "data": {
      "text/plain": [
       "<matplotlib.axes._subplots.AxesSubplot at 0x21671c508d0>"
      ]
     },
     "execution_count": 42,
     "metadata": {},
     "output_type": "execute_result"
    },
    {
     "data": {
      "image/png": "[encoded data removed]",
      "text/plain": [
       "<Figure size 720x432 with 1 Axes>"
      ]
     },
     "metadata": {},
     "output_type": "display_data"
    }
   ],
   "source": [
    "plt.figure(figsize=(10,6))\n",
    "sns.barplot(sales_data['lead_status'], sales_data['Day_Since_Change'])"
   ]
  },
  {
   "cell_type": "markdown",
   "metadata": {},
   "source": [
    "Main Goal for this workbook:\n",
    "    1. Cleaning up data \n",
    "    2. Formating data\n",
    "    3. Addition of new column based on existing ones\n",
    "    4. Extracting data which can be used as an input for visualization in Tableau\n",
    "    5. Exploring the data using seaborn"
   ]
  },
  {
   "cell_type": "markdown",
   "metadata": {},
   "source": [
    "## Thank You!"
   ]
  },
  {
   "cell_type": "code",
   "execution_count": null,
   "metadata": {},
   "outputs": [],
   "source": []
  },
  {
   "cell_type": "code",
   "execution_count": null,
   "metadata": {},
   "outputs": [],
   "source": []
  }
 ],
 "metadata": {
  "kernelspec": {
   "display_name": "Python 3",
   "language": "python",
   "name": "python3"
  },
  "language_info": {
   "codemirror_mode": {
    "name": "ipython",
    "version": 3
   },
   "file_extension": ".py",
   "mimetype": "text/x-python",
   "name": "python",
   "nbconvert_exporter": "python",
   "pygments_lexer": "ipython3",
   "version": "3.7.3"
  }
 },
 "nbformat": 4,
 "nbformat_minor": 2
}
